{
 "cells": [
  {
   "cell_type": "markdown",
   "metadata": {},
   "source": [
    "# FlexV\n",
    "\n",
    "## Version history\n",
    "\n",
    "Version: 0.1 (test) "
   ]
  },
  {
   "cell_type": "markdown",
   "metadata": {},
   "source": [
    "# Segmentation"
   ]
  },
  {
   "cell_type": "code",
   "execution_count": null,
   "metadata": {},
   "outputs": [
    {
     "name": "stdout",
     "output_type": "stream",
     "text": [
      "Name of video to be analysed:  WL400_0V5.mp4\n",
      "Width:  1920.0\n",
      "Height:  1440.0\n",
      "Total number of frames:  3597.0\n"
     ]
    }
   ],
   "source": [
    "import numpy as np\n",
    "import cv2\n",
    "import os\n",
    "import time\n",
    "\n",
    "#nameOfVid = 'WL400_064-low-res.mp4'            #this works\n",
    "nameOfVid = 'WL400_0V5.mp4'                          #name of video to be analysed\n",
    "\n",
    "\n",
    "''' Sets modified dimensions for videoframe '''\n",
    "def rescale_frame(frame,percent=75):         #from:https://www.youtube.com/watch?v=y76C3P20rwc\n",
    "    scale_percent = percent\n",
    "    width=int(frame.shape[1]*scale_percent/100)\n",
    "    height=int(frame.shape[0]*scale_percent/100)               \n",
    "    dim = (width,height)\n",
    "    return cv2.resize(frame, dim, interpolation=cv2.INTER_AREA)\n",
    "\n",
    "cap = cv2.VideoCapture(nameOfVid)           #load video\n",
    "\n",
    "''' Display some basic properties of the movie '''\n",
    "width = cap.get(3)\n",
    "height = cap.get(4)\n",
    "totalf = cap.get(cv2.CAP_PROP_FRAME_COUNT)  #total number of frames\n",
    "print ('Name of video to be analysed: ', nameOfVid)\n",
    "print ('Width: ', width, 'pixel')\n",
    "print ('Height: ', height, 'pixel')\n",
    "print ('Total number of frames: ', totalf)\n",
    "\n",
    "\n",
    "while(cap.isOpened()):  # check !\n",
    "    ret, frame = cap.read()                     # capture frame-by-frame\n",
    "    if ret: \n",
    "        gray = cv2.cvtColor(frame, cv2.COLOR_BGR2GRAY)                                #Convert to Grayscale\n",
    "        ret,simpleThreshold = cv2.threshold(gray, 140, 250, cv2.THRESH_BINARY)        #Simple threshold\n",
    "        simpleThreshold=rescale_frame(simpleThreshold, percent = 50)                  #rescale frame\n",
    "        cv2.imshow('Thresholding Method used',simpleThreshold)                        #open thresholded video in new window\n",
    "    if cv2.waitKey(1) & 0xFF == ord('q'):    #quit by hitting 'q' in movie\n",
    "        break\n",
    "        \n",
    "# When everything is done release the capture\n",
    "cap.release()\n",
    "cv2.destroyAllWindows()        "
   ]
  },
  {
   "cell_type": "markdown",
   "metadata": {},
   "source": [
    "## Filtering "
   ]
  },
  {
   "cell_type": "markdown",
   "metadata": {},
   "source": [
    "## step 5 - the main algorithm"
   ]
  },
  {
   "cell_type": "code",
   "execution_count": 5,
   "metadata": {},
   "outputs": [],
   "source": [
    "# -*- coding: utf-8 -*-\n",
    "\"\"\"\n",
    "findNextPoint created by Moritz Thom 2018\n",
    "\"\"\"\n",
    "\n",
    "import numpy as np\n",
    "    \n",
    "def findNextPoint(sX, sY, sAngle, dist, thresholding, dAngleInc, limAngle, width, height):\n",
    "    '''\n",
    "    This function searches for black pixels at defined distances and if found return the position\n",
    "    \n",
    "    Input:\n",
    "    \n",
    "    sX - X coordinate of starting point\n",
    "    sY - Y coordinate of starting point\n",
    "    sAngle - Angle (in degree) to start searching \n",
    "    dist - distance (in pixels) at which search is being conducted    \n",
    "    thresholding - thresholding method\n",
    "    dAngleInc - angle increment (in degrees)\n",
    "    limAngle - limit of search angle (in degrees)\n",
    "    width - width of each frame (in px)\n",
    "    height - height of each frame (in px)\n",
    "        \n",
    "    Output:\n",
    "    \n",
    "    fP - reports if black pixel is found (= 1)  \n",
    "    eX - X coordinate of black pixel found\n",
    "    eY - Y coordinate of black pixel found\n",
    "    eAngle - angle at which the black pixel was found \n",
    "    l - absolute length to black pixel found\n",
    "        \n",
    "    '''\n",
    "    i = 0\n",
    "    dAngle = 0\n",
    "\n",
    "    while dAngle <= limAngle and dAngle >= -limAngle :          #modify this for more/less accuracy \n",
    "        if i != 0 and i % 2 == 0 :\n",
    "            dAngle = dAngle + dAngleInc\n",
    "        #switch from negative to positive at each iteration:\n",
    "        if i % 2 == 0 :\n",
    "            absdAngle = -dAngle\n",
    "        else :\n",
    "            absdAngle = dAngle\n",
    "        out = 0 #indicates wether the resulting vector is out of bounds (=1)        \n",
    "        eAngleRad = (sAngle + absdAngle)* np.pi / 180  #convert to radiant\n",
    "        #calculate (and round) the dist in px in x,Y direction:\n",
    "        dX = np.sin(eAngleRad) * dist \n",
    "        dY = np.cos(eAngleRad) * dist\n",
    "        dX = np.around(dX) #round x\n",
    "        dY = np.around(dY) #round y\n",
    "        \n",
    "        l = np.sqrt(dX*dX + dY*dY)                  #calcluate the absolute l\n",
    "        chkX = int(sX - dX)\n",
    "        chkY = int(sY - dY)\n",
    "        eAngle = eAngleRad * 180 / np.pi            #transform into degrees    \n",
    "        #Check here if out of bounds:\n",
    "        if chkX > width or chkX < 0:\n",
    "            print ('chkX: ',chkX, ' Width: ', width, 'Out of bounds')\n",
    "            out = 1\n",
    "            break\n",
    "        if chkY > height or chkX < 0:\n",
    "            print ('chkY: ',chkY, ' Height: ', height, 'Out of bounds')\n",
    "            out = 1\n",
    "            break\n",
    "        if out == 0:\n",
    "            if thresholding[chkY, chkX] == 0:\n",
    "                eX = chkX\n",
    "                eY = chkY\n",
    "                fP = 1\n",
    "                return fP, eX, eY, eAngle, l\n",
    "        fP = 0\n",
    "        i = i + 1\n",
    "    fP = 0\n",
    "    eX = 0\n",
    "    eY = 0\n",
    "    eAngle = 0\n",
    "    l = 0\n",
    "    return fP, eX, eY, eAngle, l\n",
    "        "
   ]
  },
  {
   "cell_type": "markdown",
   "metadata": {},
   "source": [
    "## step 1:"
   ]
  },
  {
   "cell_type": "code",
   "execution_count": 7,
   "metadata": {},
   "outputs": [
    {
     "name": "stdout",
     "output_type": "stream",
     "text": [
      "This is pyFlexCV Version: 0.1\n",
      "written by Moritz Thom\n",
      "Name of video to be analysed:  WL400_064-low-res.mp4\n",
      "Width:  700.0\n",
      "Height:  720.0\n",
      "Processed frame:  1 / 301  time/frame:  1.08  s\n",
      "Processed frame:  2 / 301  time/frame:  0.64  s\n",
      "Processed frame:  3 / 301  time/frame:  0.61  s\n",
      "Processed frame:  4 / 301  time/frame:  0.63  s\n",
      "Processed frame:  5 / 301  time/frame:  0.62  s\n",
      "Processed frame:  6 / 301  time/frame:  0.61  s\n",
      "Processed frame:  7 / 301  time/frame:  0.60  s\n",
      "Processed frame:  8 / 301  time/frame:  0.63  s\n",
      "Processed frame:  9 / 301  time/frame:  0.61  s\n",
      "Processed frame:  10 / 301  time/frame:  0.61  s\n",
      "Processed frame:  11 / 301  time/frame:  0.61  s\n",
      "Processed frame:  12 / 301  time/frame:  0.60  s\n",
      "Processed frame:  13 / 301  time/frame:  0.60  s\n",
      "Processed frame:  14 / 301  time/frame:  0.60  s\n",
      "Processed frame:  15 / 301  time/frame:  0.60  s\n",
      "Processed frame:  16 / 301  time/frame:  0.60  s\n",
      "Processed frame:  17 / 301  time/frame:  0.61  s\n",
      "Processed frame:  18 / 301  time/frame:  0.64  s\n",
      "Processed frame:  19 / 301  time/frame:  0.60  s\n",
      "Processed frame:  20 / 301  time/frame:  0.60  s\n",
      "Processed frame:  21 / 301  time/frame:  0.60  s\n",
      "Processed frame:  22 / 301  time/frame:  0.61  s\n",
      "Processed frame:  23 / 301  time/frame:  0.61  s\n",
      "Processed frame:  24 / 301  time/frame:  0.60  s\n",
      "Processed frame:  25 / 301  time/frame:  0.60  s\n",
      "Processed frame:  26 / 301  time/frame:  0.60  s\n",
      "Processing complete\n",
      "Writing results complete\n"
     ]
    }
   ],
   "source": [
    "#Preferences:\n",
    "vers = 0.1                                        #version nr.\n",
    "nameOfVid = 'WL400_064-low-res.mp4'            #this works\n",
    "#nameOfVid = 'WL400_0V5.mp4'                          #name of video to be analysed\n",
    "saveResults = 1                         \n",
    "writeResults = 1\n",
    "showthresholdMov = 1\n",
    "showOrigTrack = 1\n",
    "\n",
    "#Variables\n",
    "xCollector = []                                 #container\n",
    "yCollector = []                                 #container\n",
    "fnr = 0                                         #frame number\n",
    "        \n",
    "\n",
    "\n",
    "\n",
    "#new\n",
    "def rescale_frame(frame,percent=75):         #from:https://www.youtube.com/watch?v=y76C3P20rwc\n",
    "    scale_percent = percent\n",
    "    width=int(frame.shape[1]*scale_percent/100)\n",
    "    height=int(frame.shape[0]*scale_percent/100)               \n",
    "    dim = (width,height)\n",
    "    return cv2.resize(frame, dim, interpolation=cv2.INTER_AREA)\n",
    "    \n",
    "\n",
    "\n",
    "\n",
    "'''\n",
    "Main Program:\n",
    "'''        \n",
    "\n",
    "print ('This is pyFlexCV Version:', vers)\n",
    "print ('written by Moritz Thom')\n",
    "cap = cv2.VideoCapture(nameOfVid)\n",
    "\n",
    "#Some basic properties of the movie\n",
    "width = cap.get(3)\n",
    "height = cap.get(4)\n",
    "print ('Name of video to be analysed: ', nameOfVid)\n",
    "print ('Width: ', width)\n",
    "print ('Height: ', height)\n",
    "\n",
    "while(cap.isOpened()):  # check !\n",
    "    start_time = time.time()\n",
    "    totalf = cap.get(cv2.CAP_PROP_FRAME_COUNT)  #total number of frames    \n",
    "    fnr = fnr + 1                               #framenr    \n",
    "    ret, frame = cap.read()                     # capture frame-by-frame\n",
    "    \n",
    "    if ret: \n",
    "        gray = cv2.cvtColor(frame, cv2.COLOR_BGR2GRAY) #Convert to Grayscale\n",
    "        #ret,simpleThreshold = cv2.threshold(gray, 90, 250, cv2.THRESH_BINARY) #Simple threshold initial\n",
    "        ret,simpleThreshold = cv2.threshold(gray, 140, 250, cv2.THRESH_BINARY) #Simple threshold, test1\n",
    "        \n",
    "        \n",
    "#==============================================================================    \n",
    "# Algorithm to analyse flexi veg\n",
    "# based on function findNextPoint   \n",
    "#==============================================================================        \n",
    "        #Initial values (modify if needed, see documentation of findNextPoint.py for further details):\n",
    "        sX = 445\n",
    "        sY = 465\n",
    "        sAngle = 0\n",
    "        dist = 10 # in Pixels\n",
    "        end = 0\n",
    "        thresholding = simpleThreshold \n",
    "        dAngleInc = 0.1\n",
    "        limAngle = 90\n",
    "        distInc = 0\n",
    "        maxIter = 11        #will not work with 25 as out of bounds\n",
    "        x = [] #create an empty list where x values will be saved\n",
    "        y = []\n",
    "        \n",
    "        #loop over one plant leaf\n",
    "        while distInc <= maxIter:\n",
    "            #print ('New starting point!')\n",
    "            #print (distInc)\n",
    "            fP, eX, eY, eAngle, l = findNextPoint(sX, sY, sAngle, dist, thresholding, dAngleInc, limAngle, width, height)\n",
    "            if fP == 1:\n",
    "                #cv2.line(simpleThreshold, (sX,sY),(eX,eY), 0, 5)\n",
    "                cv2.line(frame, (sX,sY),(eX,eY), (0,255,0), 2) #print line    \n",
    "                sX = eX\n",
    "                sY = eY\n",
    "                sAngle = eAngle         \n",
    "                if saveResults == 1:       \n",
    "                    x.append(sX)\n",
    "                    y.append(sY)\n",
    "                    \n",
    "            if fP == 0:\n",
    "                dist = dist + distInc               #here search further \n",
    "                distInc = distInc +1 \n",
    "            \n",
    "            if distInc == maxIter and saveResults == 1:     #save data to container\n",
    "                xCollector.append(x)\n",
    "                yCollector.append(y)\n",
    "        #rescale frame !!!!new\n",
    "        frame=rescale_frame(frame, percent = 30)\n",
    "        thresholding=rescale_frame(thresholding, percent = 30)\n",
    "        #for comparison display the thresholding method used above\n",
    "        if showthresholdMov == 1:\n",
    "            cv2.imshow('Thresholding Method used',thresholding)\n",
    "        if showOrigTrack == 1:\n",
    "            cv2.imshow('Original with tracking',frame)\n",
    "        \n",
    "        #Some printing to console:        \n",
    "        elapsed_time = time.time() - start_time\n",
    "        print ('Processed frame: ', fnr, '/', \"%.0f\" % totalf,' time/frame: ', \"%.2f\" % elapsed_time,' s')\n",
    "      \n",
    "      \n",
    "    if cv2.waitKey(1) & 0xFF == ord('q'):    #quit by hitting 'q' in movie\n",
    "        break\n",
    "    \n",
    "    \n",
    "print ('Processing complete')\n",
    "    \n",
    "#==============================================================================    \n",
    "#write results    \n",
    "#==============================================================================\n",
    "\n",
    "if writeResults == 1:\n",
    "    np.savetxt('x.tmp', xCollector, delimiter=\",\", fmt='%s')\n",
    "    np.savetxt('y.tmp', yCollector, delimiter=\",\", fmt='%s')\n",
    "    \n",
    "    #do some formatting for nice Matlab readability:\n",
    "    i = 0\n",
    "    with open('x.tmp') as f:\n",
    "        lines = f.readlines()\n",
    "    \n",
    "    \n",
    "    while i < len(lines):\n",
    "        #read line 1:\n",
    "            s = lines[i]\n",
    "            #truncate:\n",
    "            s = s[1:-2]\n",
    "            s += '\\n'\n",
    "            with open('x.dat','a') as g:          #this appends text\n",
    "                g.write(s)\n",
    "                i=i+1\n",
    "                \n",
    "    #replace brackets in Y\n",
    "    i = 0\n",
    "\n",
    "    with open('y.tmp') as f:\n",
    "        lines = f.readlines()\n",
    "    \n",
    "    \n",
    "    while i < len(lines):\n",
    "        #read line 1:\n",
    "            s = lines[i]\n",
    "            #truncate:\n",
    "            s = s[1:-2]\n",
    "            s += '\\n'\n",
    "            with open('y.dat','a') as g:          #this appends text\n",
    "                g.write(s)\n",
    "                i=i+1\n",
    "    \n",
    "    #delete temporary files:\n",
    "    os.remove('x.tmp')\n",
    "    os.remove('y.tmp')\n",
    "\n",
    "    print('Writing results complete')    \n",
    "\n",
    "# When everything is done release the capture\n",
    "cap.release()\n",
    "cv2.destroyAllWindows()"
   ]
  },
  {
   "cell_type": "markdown",
   "metadata": {},
   "source": [
    "# watch the original video file here"
   ]
  },
  {
   "cell_type": "markdown",
   "metadata": {},
   "source": [
    "<video controls src=\"WL400_064-low-res.mp4\" />"
   ]
  },
  {
   "cell_type": "markdown",
   "metadata": {},
   "source": [
    "# test widgets\n",
    "https://ipywidgets.readthedocs.io/en/stable/examples/Widget%20List.html"
   ]
  },
  {
   "cell_type": "code",
   "execution_count": 10,
   "metadata": {},
   "outputs": [],
   "source": [
    "import ipywidgets as widgets"
   ]
  },
  {
   "cell_type": "code",
   "execution_count": 16,
   "metadata": {},
   "outputs": [
    {
     "data": {
      "application/vnd.jupyter.widget-view+json": {
       "model_id": "40bdeb50eb3844ea8efeff963d5d89ff",
       "version_major": 2,
       "version_minor": 0
      },
      "text/html": [
       "<p>Failed to display Jupyter Widget of type <code>IntSlider</code>.</p>\n",
       "<p>\n",
       "  If you're reading this message in the Jupyter Notebook or JupyterLab Notebook, it may mean\n",
       "  that the widgets JavaScript is still loading. If this message persists, it\n",
       "  likely means that the widgets JavaScript library is either not installed or\n",
       "  not enabled. See the <a href=\"https://ipywidgets.readthedocs.io/en/stable/user_install.html\">Jupyter\n",
       "  Widgets Documentation</a> for setup instructions.\n",
       "</p>\n",
       "<p>\n",
       "  If you're reading this message in another frontend (for example, a static\n",
       "  rendering on GitHub or <a href=\"https://nbviewer.jupyter.org/\">NBViewer</a>),\n",
       "  it may mean that your frontend doesn't currently support widgets.\n",
       "</p>\n"
      ],
      "text/plain": [
       "IntSlider(value=100, max=200, min=100)"
      ]
     },
     "metadata": {},
     "output_type": "display_data"
    }
   ],
   "source": [
    "w = widgets.IntSlider()\n",
    "w.min = 100\n",
    "w.max = 200\n",
    "display(w)"
   ]
  },
  {
   "cell_type": "code",
   "execution_count": 15,
   "metadata": {},
   "outputs": [
    {
     "data": {
      "text/plain": [
       "100"
      ]
     },
     "execution_count": 15,
     "metadata": {},
     "output_type": "execute_result"
    }
   ],
   "source": [
    "w.value"
   ]
  },
  {
   "cell_type": "markdown",
   "metadata": {},
   "source": [
    "### doesnt work"
   ]
  },
  {
   "cell_type": "code",
   "execution_count": 39,
   "metadata": {},
   "outputs": [
    {
     "data": {
      "application/vnd.jupyter.widget-view+json": {
       "model_id": "02cee778a61d42dfa141a29478006beb",
       "version_major": 2,
       "version_minor": 0
      },
      "text/html": [
       "<p>Failed to display Jupyter Widget of type <code>Text</code>.</p>\n",
       "<p>\n",
       "  If you're reading this message in the Jupyter Notebook or JupyterLab Notebook, it may mean\n",
       "  that the widgets JavaScript is still loading. If this message persists, it\n",
       "  likely means that the widgets JavaScript library is either not installed or\n",
       "  not enabled. See the <a href=\"https://ipywidgets.readthedocs.io/en/stable/user_install.html\">Jupyter\n",
       "  Widgets Documentation</a> for setup instructions.\n",
       "</p>\n",
       "<p>\n",
       "  If you're reading this message in another frontend (for example, a static\n",
       "  rendering on GitHub or <a href=\"https://nbviewer.jupyter.org/\">NBViewer</a>),\n",
       "  it may mean that your frontend doesn't currently support widgets.\n",
       "</p>\n"
      ],
      "text/plain": [
       "Text(value='Hello World', description='String:', placeholder='Type something')"
      ]
     },
     "metadata": {},
     "output_type": "display_data"
    }
   ],
   "source": [
    "widgets.Text(\n",
    "        value='Hello World',\n",
    "        placeholder='Type something',\n",
    "        description='String:',\n",
    "        disabled=False\n",
    ")"
   ]
  },
  {
   "cell_type": "markdown",
   "metadata": {},
   "source": [
    "### works:"
   ]
  },
  {
   "cell_type": "code",
   "execution_count": 41,
   "metadata": {},
   "outputs": [
    {
     "data": {
      "application/vnd.jupyter.widget-view+json": {
       "model_id": "4f897c16dd8640ef991e71753c4acf42",
       "version_major": 2,
       "version_minor": 0
      },
      "text/html": [
       "<p>Failed to display Jupyter Widget of type <code>Text</code>.</p>\n",
       "<p>\n",
       "  If you're reading this message in the Jupyter Notebook or JupyterLab Notebook, it may mean\n",
       "  that the widgets JavaScript is still loading. If this message persists, it\n",
       "  likely means that the widgets JavaScript library is either not installed or\n",
       "  not enabled. See the <a href=\"https://ipywidgets.readthedocs.io/en/stable/user_install.html\">Jupyter\n",
       "  Widgets Documentation</a> for setup instructions.\n",
       "</p>\n",
       "<p>\n",
       "  If you're reading this message in another frontend (for example, a static\n",
       "  rendering on GitHub or <a href=\"https://nbviewer.jupyter.org/\">NBViewer</a>),\n",
       "  it may mean that your frontend doesn't currently support widgets.\n",
       "</p>\n"
      ],
      "text/plain": [
       "Text(value='Hello World', description='String:')"
      ]
     },
     "metadata": {},
     "output_type": "display_data"
    }
   ],
   "source": [
    "w = widgets.Text(value='Hello World',description='String:',)\n",
    "display(w)"
   ]
  },
  {
   "cell_type": "code",
   "execution_count": 37,
   "metadata": {},
   "outputs": [
    {
     "data": {
      "text/plain": [
       "'test'"
      ]
     },
     "execution_count": 37,
     "metadata": {},
     "output_type": "execute_result"
    }
   ],
   "source": [
    "w.value"
   ]
  },
  {
   "cell_type": "code",
   "execution_count": null,
   "metadata": {},
   "outputs": [],
   "source": []
  }
 ],
 "metadata": {
  "kernelspec": {
   "display_name": "Python 3",
   "language": "python",
   "name": "python3"
  },
  "language_info": {
   "codemirror_mode": {
    "name": "ipython",
    "version": 3
   },
   "file_extension": ".py",
   "mimetype": "text/x-python",
   "name": "python",
   "nbconvert_exporter": "python",
   "pygments_lexer": "ipython3",
   "version": "3.5.4"
  }
 },
 "nbformat": 4,
 "nbformat_minor": 2
}
